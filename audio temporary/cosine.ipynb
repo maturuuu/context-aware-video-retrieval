{
 "cells": [
  {
   "cell_type": "markdown",
   "id": "94eac755",
   "metadata": {},
   "source": [
    "**Sanity check code: accepts embedding query file, ranks all other embeddings by their cosine similarity with it (descending)**"
   ]
  },
  {
   "cell_type": "code",
   "execution_count": 4,
   "id": "f642969f",
   "metadata": {},
   "outputs": [],
   "source": [
    "# Run this to activate venv for the terminal instance: .venv\\Scripts\\activate\n",
    "\n",
    "from pathlib import Path\n",
    "import numpy as np\n",
    "from numpy.linalg import norm"
   ]
  },
  {
   "cell_type": "code",
   "execution_count": 5,
   "id": "aa5eec83",
   "metadata": {},
   "outputs": [],
   "source": [
    "def cosine_similarity(vec1, vec2):\n",
    "    return np.dot(vec1, vec2) / (norm(vec1) * norm(vec2))"
   ]
  },
  {
   "cell_type": "code",
   "execution_count": 6,
   "id": "4c604201",
   "metadata": {},
   "outputs": [
    {
     "name": "stdout",
     "output_type": "stream",
     "text": [
      "Ranking embeddings vs trend3vid6_32k_embedding2048:\n",
      "trend3vid8_32k_embedding2048: 0.7436\n",
      "trend5vid2_32k_embedding2048: 0.7363\n",
      "trend5vid3_32k_embedding2048: 0.7244\n",
      "trend3vid7_32k_embedding2048: 0.7235\n",
      "trend5vid4_32k_embedding2048: 0.7012\n"
     ]
    }
   ],
   "source": [
    "emb_dir = Path(\"embeddings_out\")\n",
    "emb_files = sorted(emb_dir.glob(\"*_embedding2048.npy\"))\n",
    "\n",
    "query_file = emb_dir / \"trend3vid6_32k_embedding2048.npy\" # this file will be the query\n",
    "query_vec = np.load(query_file)\n",
    "\n",
    "results = []\n",
    "for f in emb_files:\n",
    "    if f == query_file:\n",
    "        continue  # skip self\n",
    "    vec = np.load(f)\n",
    "    sim = cosine_similarity(query_vec, vec)\n",
    "    results.append((f.stem, sim))\n",
    "\n",
    "results.sort(key=lambda x: x[1], reverse=True)\n",
    "\n",
    "# -------------------------------\n",
    "# Print ranked results\n",
    "# -------------------------------\n",
    "print(f\"Ranking embeddings vs {query_file.stem}:\")\n",
    "for name, sim in results:\n",
    "    print(f\"{name}: {sim:.4f}\")"
   ]
  }
 ],
 "metadata": {
  "kernelspec": {
   "display_name": ".venv",
   "language": "python",
   "name": "python3"
  },
  "language_info": {
   "codemirror_mode": {
    "name": "ipython",
    "version": 3
   },
   "file_extension": ".py",
   "mimetype": "text/x-python",
   "name": "python",
   "nbconvert_exporter": "python",
   "pygments_lexer": "ipython3",
   "version": "3.12.2"
  }
 },
 "nbformat": 4,
 "nbformat_minor": 5
}
